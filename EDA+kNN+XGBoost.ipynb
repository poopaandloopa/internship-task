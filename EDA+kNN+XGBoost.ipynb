{
 "cells": [
  {
   "cell_type": "code",
   "execution_count": null,
   "id": "initial_id",
   "metadata": {
    "ExecuteTime": {
     "end_time": "2024-03-26T06:54:47.974690400Z",
     "start_time": "2024-03-26T06:54:47.160368600Z"
    }
   },
   "outputs": [],
   "source": [
    "import pandas as pd\n",
    "import numpy as np\n",
    "import matplotlib.pyplot as plt\n",
    "from sklearn.model_selection import train_test_split\n",
    "from sklearn.preprocessing import LabelEncoder\n",
    "from sklearn.metrics import classification_report, ConfusionMatrixDisplay\n",
    "from sklearn.model_selection import GridSearchCV\n",
    "from sklearn.neighbors import KNeighborsClassifier\n",
    "from xgboost import XGBClassifier\n",
    "from sklearn.decomposition import PCA\n",
    "import optuna\n",
    "\n",
    "plt.rcParams['axes.facecolor'] = 'white'"
   ]
  },
  {
   "cell_type": "markdown",
   "id": "d5ab8765205b1319",
   "metadata": {},
   "source": [
    "## Data loading and visualization"
   ]
  },
  {
   "cell_type": "code",
   "execution_count": null,
   "id": "dd1672c2f8a3b847",
   "metadata": {
    "ExecuteTime": {
     "end_time": "2024-03-26T06:54:48.422425800Z",
     "start_time": "2024-03-26T06:54:47.954721600Z"
    }
   },
   "outputs": [],
   "source": [
    "# load dataset and display it\n",
    "\n",
    "train_df = pd.read_csv(\"data/EthanolLevel_TRAIN.tsv\", delimiter=\"\\t\", header=None)\n",
    "train_df.rename(columns={0: \"Class\"}, inplace=True)\n",
    "train_df"
   ]
  },
  {
   "cell_type": "code",
   "execution_count": null,
   "id": "a11b1a4a726ecba4",
   "metadata": {
    "ExecuteTime": {
     "end_time": "2024-03-26T06:54:48.580557200Z",
     "start_time": "2024-03-26T06:54:48.378125900Z"
    }
   },
   "outputs": [],
   "source": [
    "# split the train dataframe into train and validation sets\n",
    "train_df_class = train_df['Class'] - 1\n",
    "train_df_spectrum = train_df.drop(\"Class\", axis=1)\n",
    "\n",
    "train_set_spectrum, val_set_spectrum, train_set_class, val_set_class = train_test_split(train_df_spectrum,\n",
    "                                                                                        train_df_class,\n",
    "                                                                                        test_size=0.2,\n",
    "                                                                                        random_state=42)\n",
    "\n",
    "print(len(train_set_spectrum), len(val_set_spectrum))"
   ]
  },
  {
   "cell_type": "code",
   "execution_count": null,
   "id": "15c0361a00f6c36",
   "metadata": {
    "ExecuteTime": {
     "end_time": "2024-03-26T06:54:48.639553100Z",
     "start_time": "2024-03-26T06:54:48.420437300Z"
    }
   },
   "outputs": [],
   "source": [
    "train_set_class.value_counts()"
   ]
  },
  {
   "cell_type": "code",
   "execution_count": null,
   "id": "b7bb9ca2e15d3ba5",
   "metadata": {
    "ExecuteTime": {
     "end_time": "2024-03-26T06:54:49.246252200Z",
     "start_time": "2024-03-26T06:54:48.440434600Z"
    }
   },
   "outputs": [],
   "source": [
    "test_df = pd.read_csv(\"data/EthanolLevel_TEST.tsv\", delimiter=\"\\t\", header=None)\n",
    "test_df.rename(columns={0: \"Class\"}, inplace=True)\n",
    "test_set_class = test_df['Class'] - 1\n",
    "test_set_spectrum = test_df.drop(\"Class\", axis=1)\n",
    "\n",
    "train_set_class.value_counts()"
   ]
  },
  {
   "cell_type": "code",
   "execution_count": null,
   "id": "771afe17119a9594",
   "metadata": {
    "ExecuteTime": {
     "end_time": "2024-03-26T06:54:50.727613600Z",
     "start_time": "2024-03-26T06:54:48.853378300Z"
    }
   },
   "outputs": [],
   "source": [
    "import plotly.express as px\n",
    "\n",
    "label_names = {0: \"Class 0 (E35)\", 1: \"Class 1 (E38)\", 2: \"Class 2 (E40)\", 3: \"Class 3 (E45)\"}\n",
    "value_counts = train_set_class.value_counts().reset_index()\n",
    "value_counts['label'] = value_counts['Class'].map(label_names)\n",
    "fig = px.pie(value_counts, values='count', names='label', hole=0.5, width=600, height=400)\n",
    "fig.write_html(\"pie_chart.html\")"
   ]
  },
  {
   "cell_type": "code",
   "execution_count": null,
   "id": "7b6146abc72f1531",
   "metadata": {
    "ExecuteTime": {
     "end_time": "2024-03-26T06:54:50.801604600Z",
     "start_time": "2024-03-26T06:54:50.553475100Z"
    }
   },
   "outputs": [],
   "source": [
    "def filter_class(spectra, classes, class_to_filter):\n",
    "    output_spectra = spectra[classes != class_to_filter]\n",
    "    output_classes = classes[classes != class_to_filter]\n",
    "    encoder = LabelEncoder()\n",
    "    encoder.fit(output_classes)\n",
    "    encoded_classes = encoder.transform(output_classes)\n",
    "    return output_spectra, encoded_classes\n",
    "\n",
    "def plot_series(class_n, color, linewidth, title):\n",
    "    plt.title(title)\n",
    "    plt.xlabel(\"Wavelength (conventional units)\")\n",
    "    plt.ylabel(\"Intensity (conventional units)\")\n",
    "    for obs in train_set_spectrum[train_set_class == class_n].iterrows():\n",
    "        plt.plot(obs[1], c=color, linewidth=linewidth)\n",
    "    plt.show()"
   ]
  },
  {
   "cell_type": "code",
   "execution_count": null,
   "id": "f4a15d8603d16fc5",
   "metadata": {
    "ExecuteTime": {
     "end_time": "2024-03-26T06:54:54.719442900Z",
     "start_time": "2024-03-26T06:54:50.583602700Z"
    }
   },
   "outputs": [],
   "source": [
    "plot_series(0, \"#636EFA\", 0.15, \"Class 0 (E35)\")\n",
    "plot_series(1, \"#EF553B\", 0.15, \"Class 1 (E38)\")\n",
    "plot_series(2, \"#00CC96\", 0.15, \"Class 2 (E40)\")\n",
    "plot_series(3, \"#AB63FA\", 0.15, \"Class 3 (E45)\")"
   ]
  },
  {
   "cell_type": "markdown",
   "id": "3dcb99e5e04cacd7",
   "metadata": {},
   "source": [
    "## Dimensionality reduction using PCA"
   ]
  },
  {
   "cell_type": "code",
   "execution_count": null,
   "id": "f685153aa50370c",
   "metadata": {
    "ExecuteTime": {
     "end_time": "2024-03-26T06:54:55.433730400Z",
     "start_time": "2024-03-26T06:54:54.712447Z"
    }
   },
   "outputs": [],
   "source": [
    "pca = PCA(n_components=0.999, random_state=42)\n",
    "pca.fit(train_set_spectrum)"
   ]
  },
  {
   "cell_type": "code",
   "execution_count": null,
   "id": "f35ca9d017846f93",
   "metadata": {
    "ExecuteTime": {
     "end_time": "2024-03-26T06:54:55.979494Z",
     "start_time": "2024-03-26T06:54:55.394730700Z"
    }
   },
   "outputs": [],
   "source": [
    "cumulative_explained_variance_ratio = np.cumsum(pca.explained_variance_ratio_)\n",
    "plt.plot(cumulative_explained_variance_ratio, color='red')\n",
    "plt.xlabel(\"Component\")\n",
    "plt.ylabel(\"Cumulative explained variance ratio\")"
   ]
  },
  {
   "cell_type": "code",
   "execution_count": null,
   "id": "6d801638945b82e6",
   "metadata": {
    "ExecuteTime": {
     "end_time": "2024-03-26T06:54:56.070987700Z",
     "start_time": "2024-03-26T06:54:55.955498300Z"
    }
   },
   "outputs": [],
   "source": [
    "pca.n_components_"
   ]
  },
  {
   "cell_type": "code",
   "execution_count": null,
   "id": "65dcaed3515418d3",
   "metadata": {
    "ExecuteTime": {
     "end_time": "2024-03-26T06:54:56.196262300Z",
     "start_time": "2024-03-26T06:54:55.975524100Z"
    }
   },
   "outputs": [],
   "source": [
    "# transform train, val and test sets\n",
    "train_set_spectrum_pca = pca.transform(train_set_spectrum)\n",
    "val_set_spectrum_pca = pca.transform(val_set_spectrum)\n",
    "test_set_spectrum_pca = pca.transform(test_set_spectrum)"
   ]
  },
  {
   "cell_type": "markdown",
   "id": "bde124553c72d002",
   "metadata": {},
   "source": [
    "## K Nearest Neighbors classifier"
   ]
  },
  {
   "cell_type": "code",
   "execution_count": null,
   "id": "43cf6bbd1def13b8",
   "metadata": {
    "ExecuteTime": {
     "end_time": "2024-03-26T06:54:56.200263300Z",
     "start_time": "2024-03-26T06:54:56.082419900Z"
    }
   },
   "outputs": [],
   "source": [
    "# define KNN classifier model and parameters grid\n",
    "\n",
    "knn_clf = KNeighborsClassifier(n_jobs=-1)\n",
    "knn_param_grid = {'n_neighbors': [1, 2, 3, 4, 5, 10, 15, 20],\n",
    "                  'weights': ['uniform', 'distance'],\n",
    "                  'p': [1, 2]}\n",
    "grid_search_cv = GridSearchCV(estimator=knn_clf,\n",
    "                              param_grid=knn_param_grid,\n",
    "                              cv=5,\n",
    "                              verbose=3,\n",
    "                              n_jobs=-1)"
   ]
  },
  {
   "cell_type": "code",
   "execution_count": null,
   "id": "353b34037a17f4a4",
   "metadata": {
    "ExecuteTime": {
     "end_time": "2024-03-26T06:55:12.142023100Z",
     "start_time": "2024-03-26T06:54:56.093379400Z"
    }
   },
   "outputs": [],
   "source": [
    "# fit grid search CV without dimensionality reduction\n",
    "grid_search_cv.fit(train_set_spectrum, train_set_class)"
   ]
  },
  {
   "cell_type": "code",
   "execution_count": null,
   "id": "9e5c30bf2e20adfb",
   "metadata": {
    "ExecuteTime": {
     "end_time": "2024-03-26T06:55:12.189167800Z",
     "start_time": "2024-03-26T06:55:12.108044200Z"
    }
   },
   "outputs": [],
   "source": [
    "grid_search_cv.best_params_"
   ]
  },
  {
   "cell_type": "code",
   "execution_count": null,
   "id": "b4bef6f7acd042a",
   "metadata": {
    "ExecuteTime": {
     "end_time": "2024-03-26T06:55:16.457636700Z",
     "start_time": "2024-03-26T06:55:12.129026700Z"
    }
   },
   "outputs": [],
   "source": [
    "print(\"Train accuracy: \", grid_search_cv.best_estimator_.score(train_set_spectrum, train_set_class))\n",
    "print(\"Val accuracy: \", grid_search_cv.best_estimator_.score(val_set_spectrum, val_set_class))\n",
    "print(\"Test accuracy: \", grid_search_cv.best_estimator_.score(test_set_spectrum, test_set_class))"
   ]
  },
  {
   "cell_type": "code",
   "execution_count": null,
   "id": "ab1a5aa020c23961",
   "metadata": {
    "ExecuteTime": {
     "end_time": "2024-03-26T06:55:16.887378100Z",
     "start_time": "2024-03-26T06:55:16.455634800Z"
    }
   },
   "outputs": [],
   "source": [
    "test_predicts = grid_search_cv.best_estimator_.predict(test_set_spectrum)"
   ]
  },
  {
   "cell_type": "code",
   "execution_count": null,
   "id": "8c509623d317517a",
   "metadata": {
    "ExecuteTime": {
     "end_time": "2024-03-26T06:55:17.519937100Z",
     "start_time": "2024-03-26T06:55:16.886369600Z"
    }
   },
   "outputs": [],
   "source": [
    "ConfusionMatrixDisplay.from_predictions(y_true=test_set_class, y_pred=test_predicts)"
   ]
  },
  {
   "cell_type": "code",
   "execution_count": null,
   "id": "597811b77349df8d",
   "metadata": {
    "ExecuteTime": {
     "end_time": "2024-03-26T06:55:18.071830400Z",
     "start_time": "2024-03-26T06:55:17.519937100Z"
    }
   },
   "outputs": [],
   "source": [
    "print(classification_report(test_set_class, test_predicts))"
   ]
  },
  {
   "cell_type": "code",
   "execution_count": null,
   "id": "3b9d66939f1fb4e2",
   "metadata": {
    "ExecuteTime": {
     "end_time": "2024-03-26T06:55:18.187964700Z",
     "start_time": "2024-03-26T06:55:17.553659100Z"
    }
   },
   "outputs": [],
   "source": [
    "grid_search_cv.fit(train_set_spectrum_pca, train_set_class)"
   ]
  },
  {
   "cell_type": "code",
   "execution_count": null,
   "id": "6b45893e0acb0819",
   "metadata": {
    "ExecuteTime": {
     "end_time": "2024-03-26T06:55:18.208966700Z",
     "start_time": "2024-03-26T06:55:18.057204300Z"
    }
   },
   "outputs": [],
   "source": [
    "grid_search_cv.best_params_"
   ]
  },
  {
   "cell_type": "code",
   "execution_count": null,
   "id": "c3127fc9acf64b47",
   "metadata": {
    "ExecuteTime": {
     "end_time": "2024-03-26T06:55:18.542967200Z",
     "start_time": "2024-03-26T06:55:18.074826400Z"
    }
   },
   "outputs": [],
   "source": [
    "print(\"Train accuracy: \", grid_search_cv.best_estimator_.score(train_set_spectrum_pca, train_set_class))\n",
    "print(\"Val accuracy: \", grid_search_cv.best_estimator_.score(val_set_spectrum_pca, val_set_class))\n",
    "print(\"Test accuracy: \", grid_search_cv.best_estimator_.score(test_set_spectrum_pca, test_set_class))"
   ]
  },
  {
   "cell_type": "markdown",
   "id": "9dbd56662288a7bb",
   "metadata": {},
   "source": [
    "## XGBoost classifier"
   ]
  },
  {
   "cell_type": "code",
   "execution_count": null,
   "id": "518d873fb54d923e",
   "metadata": {
    "ExecuteTime": {
     "end_time": "2024-03-26T06:55:19.238202100Z",
     "start_time": "2024-03-26T06:55:18.128971300Z"
    }
   },
   "outputs": [],
   "source": [
    "def objective(trial):    \n",
    "    xgb_params = {\n",
    "        \"n_estimators\": trial.suggest_categorical(\"n_estimators\", [50, 100, 200, 250]),\n",
    "        \"max_depth\": trial.suggest_categorical(\"max_depth\", [2, 4, 5, 6, 8, 10]),\n",
    "        \"learning_rate\": trial.suggest_float(\"learning_rate\", 0.01, 0.5),\n",
    "        \"lambda\": trial.suggest_float('lambda', 1e-8, 1.0, log=True),\n",
    "        \"alpha\": trial.suggest_float('alpha', 1e-8, 1.0, log=True)\n",
    "    }\n",
    "    xgb_classifier = XGBClassifier(tree_method='hist',\n",
    "                                   verbosity=2,\n",
    "                                   n_jobs=-1,\n",
    "                                   eval_metric=\"merror\",\n",
    "                                   random_state=42,\n",
    "                                   **xgb_params)\n",
    "\n",
    "    xgb_classifier.fit(train_set_spectrum, train_set_class)\n",
    "    \n",
    "    val_accuracy = xgb_classifier.score(val_set_spectrum, val_set_class)\n",
    "    return val_accuracy"
   ]
  },
  {
   "cell_type": "code",
   "execution_count": null,
   "id": "cc9c7914b0ccad18",
   "metadata": {
    "ExecuteTime": {
     "start_time": "2024-03-26T06:55:18.137975400Z"
    },
    "is_executing": true
   },
   "outputs": [],
   "source": [
    "study = optuna.create_study(direction=\"maximize\")\n",
    "study.optimize(objective, n_trials=100)"
   ]
  },
  {
   "cell_type": "code",
   "execution_count": null,
   "id": "e42a1b97178b5d7f",
   "metadata": {
    "is_executing": true
   },
   "outputs": [],
   "source": [
    "study.best_params"
   ]
  },
  {
   "cell_type": "code",
   "execution_count": null,
   "id": "fd5d7677f13bc068",
   "metadata": {
    "is_executing": true
   },
   "outputs": [],
   "source": [
    "xgb_classifier = XGBClassifier(tree_method='hist',\n",
    "                               verbosity=2,\n",
    "                               n_jobs=-1,\n",
    "                               eval_metric=\"merror\",\n",
    "                               random_state=42,\n",
    "                               **study.best_params)\n",
    "xgb_classifier.fit(train_set_spectrum, train_set_class)"
   ]
  },
  {
   "cell_type": "code",
   "execution_count": null,
   "id": "51e5cd98d3bea2b",
   "metadata": {
    "is_executing": true
   },
   "outputs": [],
   "source": [
    "print(\"Train accuracy: \", xgb_classifier.score(train_set_spectrum, train_set_class))\n",
    "print(\"Val accuracy: \", xgb_classifier.score(val_set_spectrum, val_set_class))\n",
    "print(\"Test accuracy: \", xgb_classifier.score(test_set_spectrum, test_set_class))"
   ]
  },
  {
   "cell_type": "code",
   "execution_count": null,
   "id": "df094c5154dca655",
   "metadata": {
    "is_executing": true
   },
   "outputs": [],
   "source": [
    "ConfusionMatrixDisplay.from_predictions(y_true=test_set_class, y_pred=xgb_classifier.predict(test_set_spectrum))"
   ]
  },
  {
   "cell_type": "code",
   "execution_count": null,
   "id": "2788b5530f31a282",
   "metadata": {
    "is_executing": true
   },
   "outputs": [],
   "source": [
    "print(classification_report(y_true=test_set_class, y_pred=xgb_classifier.predict(test_set_spectrum), digits=3))"
   ]
  },
  {
   "cell_type": "code",
   "execution_count": null,
   "id": "e92483e13503a012",
   "metadata": {
    "is_executing": true
   },
   "outputs": [],
   "source": [
    "def objective(trial):    \n",
    "    xgb_params = {\n",
    "        \"n_estimators\": trial.suggest_categorical(\"n_estimators\", [50, 100, 200, 250]),\n",
    "        \"max_depth\": trial.suggest_categorical(\"max_depth\", [2, 4, 5, 6, 8, 10]),\n",
    "        \"learning_rate\": trial.suggest_float(\"learning_rate\", 0.01, 0.5),\n",
    "        \"lambda\": trial.suggest_float('lambda', 1e-8, 1.0, log=True),\n",
    "        \"alpha\": trial.suggest_float('alpha', 1e-8, 1.0, log=True)\n",
    "    }\n",
    "    xgb_classifier = XGBClassifier(tree_method='hist',\n",
    "                                   verbosity=2,\n",
    "                                   n_jobs=-1,\n",
    "                                   eval_metric=\"merror\",\n",
    "                                   random_state=42,\n",
    "                                   **xgb_params)\n",
    "\n",
    "    xgb_classifier.fit(train_set_spectrum_pca, train_set_class)\n",
    "    \n",
    "    val_accuracy = xgb_classifier.score(val_set_spectrum_pca, val_set_class)\n",
    "    return val_accuracy"
   ]
  },
  {
   "cell_type": "code",
   "execution_count": null,
   "id": "58763d0c0576e06c",
   "metadata": {
    "is_executing": true
   },
   "outputs": [],
   "source": [
    "study = optuna.create_study(direction=\"maximize\")\n",
    "study.optimize(objective, n_trials=100)"
   ]
  },
  {
   "cell_type": "code",
   "execution_count": null,
   "id": "fc169b2b12e19df6",
   "metadata": {
    "is_executing": true
   },
   "outputs": [],
   "source": [
    "study.best_params"
   ]
  },
  {
   "cell_type": "code",
   "execution_count": null,
   "id": "859159d9ac5053eb",
   "metadata": {
    "is_executing": true
   },
   "outputs": [],
   "source": [
    "xgb_classifier = XGBClassifier(tree_method='hist',\n",
    "                               verbosity=2,\n",
    "                               n_jobs=-1,\n",
    "                               eval_metric=\"merror\",\n",
    "                               random_state=42,\n",
    "                               **study.best_params)\n",
    "xgb_classifier.fit(train_set_spectrum_pca, train_set_class)"
   ]
  },
  {
   "cell_type": "code",
   "execution_count": null,
   "id": "ea0e24803af7b5b6",
   "metadata": {
    "is_executing": true
   },
   "outputs": [],
   "source": [
    "print(\"Train accuracy: \", xgb_classifier.score(train_set_spectrum_pca, train_set_class))\n",
    "print(\"Val accuracy: \", xgb_classifier.score(val_set_spectrum_pca, val_set_class))\n",
    "print(\"Test accuracy: \", xgb_classifier.score(test_set_spectrum_pca, test_set_class))"
   ]
  },
  {
   "cell_type": "code",
   "execution_count": null,
   "id": "fc95680425bc6485",
   "metadata": {
    "is_executing": true
   },
   "outputs": [],
   "source": [
    "ConfusionMatrixDisplay.from_predictions(y_true=test_set_class, y_pred=xgb_classifier.predict(test_set_spectrum_pca))\n",
    "plt.show()"
   ]
  },
  {
   "cell_type": "code",
   "execution_count": null,
   "id": "b353690a9df6f576",
   "metadata": {
    "is_executing": true
   },
   "outputs": [],
   "source": [
    "print(classification_report(y_true=test_set_class, y_pred=xgb_classifier.predict(test_set_spectrum_pca), digits=3))"
   ]
  },
  {
   "cell_type": "code",
   "execution_count": null,
   "id": "8c1b4183b9e98f57",
   "metadata": {
    "is_executing": true
   },
   "outputs": [],
   "source": []
  }
 ],
 "metadata": {
  "kernelspec": {
   "display_name": "Python 3 (ipykernel)",
   "language": "python",
   "name": "python3"
  },
  "language_info": {
   "codemirror_mode": {
    "name": "ipython",
    "version": 3
   },
   "file_extension": ".py",
   "mimetype": "text/x-python",
   "name": "python",
   "nbconvert_exporter": "python",
   "pygments_lexer": "ipython3",
   "version": "3.10.9"
  }
 },
 "nbformat": 4,
 "nbformat_minor": 5
}
